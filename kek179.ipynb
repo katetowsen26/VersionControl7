{
 "cells": [
  {
   "cell_type": "code",
   "execution_count": 4,
   "metadata": {},
   "outputs": [
    {
     "name": "stdin",
     "output_type": "stream",
     "text": [
      "Please enter your name: Katy\n",
      "Please enter a number: 6\n"
     ]
    },
    {
     "name": "stdout",
     "output_type": "stream",
     "text": [
      "Katy ! \n",
      "Katy ! \n",
      "Katy ! \n",
      "Katy ! \n",
      "Katy ! \n",
      "Katy ! \n"
     ]
    }
   ],
   "source": [
    "inputty = input(\"Please enter your name:\")\n",
    "numby = input(\"Please enter a number:\")\n",
    "\n",
    "x = 0\n",
    "while x < int(numby):\n",
    "    print(inputty, \"! \")\n",
    "    x += 1"
   ]
  },
  {
   "cell_type": "code",
   "execution_count": null,
   "metadata": {},
   "outputs": [],
   "source": []
  }
 ],
 "metadata": {
  "kernelspec": {
   "display_name": "Python 3",
   "language": "python",
   "name": "python3"
  },
  "language_info": {
   "codemirror_mode": {
    "name": "ipython",
    "version": 3
   },
   "file_extension": ".py",
   "mimetype": "text/x-python",
   "name": "python",
   "nbconvert_exporter": "python",
   "pygments_lexer": "ipython3",
   "version": "3.8.3"
  }
 },
 "nbformat": 4,
 "nbformat_minor": 4
}
